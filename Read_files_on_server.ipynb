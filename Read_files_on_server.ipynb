{
  "nbformat": 4,
  "nbformat_minor": 0,
  "metadata": {
    "colab": {
      "provenance": [],
      "authorship_tag": "ABX9TyN2Iq2LZT+CeaM+30rQyPem",
      "include_colab_link": true
    },
    "kernelspec": {
      "name": "python3",
      "display_name": "Python 3"
    },
    "language_info": {
      "name": "python"
    }
  },
  "cells": [
    {
      "cell_type": "markdown",
      "metadata": {
        "id": "view-in-github",
        "colab_type": "text"
      },
      "source": [
        "<a href=\"https://colab.research.google.com/github/m-umamaheshwari/File-handling/blob/main/Read_files_on_server.ipynb\" target=\"_parent\"><img src=\"https://colab.research.google.com/assets/colab-badge.svg\" alt=\"Open In Colab\"/></a>"
      ]
    },
    {
      "cell_type": "code",
      "source": [
        "f=open(\"data.txt\",\"r\")\n",
        "print(f.read())\n",
        "\n"
      ],
      "metadata": {
        "id": "6HF4TTuqTmsy",
        "colab": {
          "base_uri": "https://localhost:8080/"
        },
        "outputId": "bc5dd592-5c86-485b-c612-da02bb998833"
      },
      "execution_count": 15,
      "outputs": [
        {
          "output_type": "stream",
          "name": "stdout",
          "text": [
            "Artificial intelligence (AI) is a technology that enables machines to perform tasks that are similar to human cognitive functions\n",
            ". AI uses logic and math to simulate human reasoning and problem-solving\n"
          ]
        }
      ]
    },
    {
      "cell_type": "code",
      "source": [],
      "metadata": {
        "id": "fy3ZYTsLdoD4"
      },
      "execution_count": null,
      "outputs": []
    }
  ]
}